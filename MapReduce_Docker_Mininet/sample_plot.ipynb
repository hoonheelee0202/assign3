{
 "cells": [
  {
   "cell_type": "code",
   "execution_count": 9,
   "metadata": {},
   "outputs": [],
   "source": [
    "import pandas as pd\n",
    "import numpy as np\n",
    "import matplotlib.pyplot as plt\n",
    "\n",
    "headers = [\"Map phase\", \"Shuffle phase\", \"Reduce phase\", \"Finalize\", \"Total\"]\n",
    "file1 = pd.read_csv('../Datasets/metrics_10_2_1.csv', engine='c', sep=',', skiprows=1,  names = headers)\n",
    "file2 = pd.read_csv('../Datasets/metrics_10_2_2.csv', engine='c', sep=',' ,skiprows=1,  names = headers)\n",
    "file3 = pd.read_csv('../Datasets/metrics_10_2_3.csv', engine='c', sep=',' , skiprows=1, names = headers)"
   ]
  },
  {
   "cell_type": "code",
   "execution_count": 10,
   "metadata": {},
   "outputs": [
    {
     "name": "stdout",
     "output_type": "stream",
     "text": [
      "   Map phase  Shuffle phase  Reduce phase  Finalize      Total\n",
      "0   5.045146       6.477163      1.155650  0.002499  12.680458\n",
      "1   4.755005       4.821197      1.126328  0.003593  10.706123\n",
      "2   4.971580       5.303431      1.213909  0.003898  11.492818\n",
      "3   4.680374       4.704155      1.075402  0.004042  10.463973\n",
      "4   4.791686       5.100898      1.075361  0.002848  10.970793\n",
      "5   4.990673       5.268602      1.101046  0.002818  11.363139\n",
      "6   4.984834       4.988528      1.135911  0.002352  11.111625\n",
      "7   4.703797       4.870469      1.086715  0.004194  10.665175\n",
      "8   4.848283       4.803248      1.089979  0.002737  10.744247\n",
      "9   4.644371       5.321042      1.098204  0.003684  11.067301\n"
     ]
    }
   ],
   "source": [
    "print(file1)"
   ]
  },
  {
   "cell_type": "code",
   "execution_count": 11,
   "metadata": {},
   "outputs": [
    {
     "name": "stdout",
     "output_type": "stream",
     "text": [
      "[[ 12.68045783]\n",
      " [ 10.70612311]\n",
      " [ 11.49281788]\n",
      " [ 10.46397281]\n",
      " [ 10.97079325]\n",
      " [ 11.36313915]\n",
      " [ 11.11162496]\n",
      " [ 10.66517496]\n",
      " [ 10.7442472 ]\n",
      " [ 11.0673008 ]]\n"
     ]
    }
   ],
   "source": [
    "print(file1.values[:,4:5])"
   ]
  },
  {
   "cell_type": "code",
   "execution_count": 12,
   "metadata": {},
   "outputs": [
    {
     "name": "stdout",
     "output_type": "stream",
     "text": [
      "Total    11.126565\n",
      "dtype: float64\n"
     ]
    }
   ],
   "source": [
    "print(file1[file1.columns[4:]].mean())"
   ]
  },
  {
   "cell_type": "code",
   "execution_count": 13,
   "metadata": {},
   "outputs": [
    {
     "data": {
      "image/png": "[encoded data removed]",
      "text/plain": [
       "<matplotlib.figure.Figure at 0x7fbfb6d1a1d0>"
      ]
     },
     "metadata": {},
     "output_type": "display_data"
    }
   ],
   "source": [
    "colors = ['yellow', 'lightblue', 'lightgreen']\n",
    "tot_time = [file1.values[:,4:5],file2.values[:,4:5],file3.values[:,4:5]]\n",
    "bplots = plt.boxplot(tot_time, patch_artist=True)\n",
    "plt.xticks([1, 2, 3], ['10_2_1', '10_2_2', '10_2_3'])\n",
    "for patch, colors in zip(bplots['boxes'], colors):\n",
    "    patch.set_facecolor(colors)\n",
    "plt.show()"
   ]
  }
 ],
 "metadata": {
  "kernelspec": {
   "display_name": "Python 3",
   "language": "python",
   "name": "python3"
  },
  "language_info": {
   "codemirror_mode": {
    "name": "ipython",
    "version": 3
   },
   "file_extension": ".py",
   "mimetype": "text/x-python",
   "name": "python",
   "nbconvert_exporter": "python",
   "pygments_lexer": "ipython3",
   "version": "3.5.2"
  }
 },
 "nbformat": 4,
 "nbformat_minor": 2
}
